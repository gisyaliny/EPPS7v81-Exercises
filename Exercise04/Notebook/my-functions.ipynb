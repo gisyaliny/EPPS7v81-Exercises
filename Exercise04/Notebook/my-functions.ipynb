{
 "cells": [
  {
   "cell_type": "markdown",
   "metadata": {},
   "source": [
    "# 6. 1. FUNCTIONS\n",
    "Functions are a core concept of Python. Let's see how they work. Try calling myFunction() by typing `myFunction()` in the shell:"
   ]
  },
  {
   "cell_type": "code",
   "execution_count": 1,
   "metadata": {},
   "outputs": [],
   "source": [
    "def myFunction():\n",
    "    print(\"Thanks for printing myFunction()!\")"
   ]
  },
  {
   "cell_type": "code",
   "execution_count": 2,
   "metadata": {},
   "outputs": [
    {
     "name": "stdout",
     "output_type": "stream",
     "text": [
      "Thanks for printing myFunction()!\n"
     ]
    }
   ],
   "source": [
    "myFunction()"
   ]
  },
  {
   "cell_type": "markdown",
   "metadata": {},
   "source": [
    "Now let's build something a little more complex - let's build a function that can take numbers that we pass it and check if they're even (and, if they're even, store them in a list)."
   ]
  },
  {
   "cell_type": "code",
   "execution_count": 3,
   "metadata": {},
   "outputs": [],
   "source": [
    "def isEven(num):\n",
    "    if num % 2 == 0:\n",
    "        even_numbers.append(num)\n",
    "        return(\"This number is even. I'll add it to the list.\")\n",
    "    else:\n",
    "        return(\"This number is odd.\")"
   ]
  },
  {
   "cell_type": "markdown",
   "metadata": {},
   "source": [
    "Can you explain in words what this function is doing, line-by-line? Try writing it out and \"reverse engineering\" the function, to better understand how it works and what it does.\n",
    "Try using isEven(num) with different numbers in place of \"num\" to see what happens. Throw a selection of numbers at this function, then check to see what's in the even_numbers list to see if it's working as you'd expect."
   ]
  },
  {
   "cell_type": "code",
   "execution_count": 4,
   "metadata": {},
   "outputs": [
    {
     "name": "stdout",
     "output_type": "stream",
     "text": [
      "please in put a number \n",
      "5\n"
     ]
    },
    {
     "data": {
      "text/plain": [
       "'This number is odd.'"
      ]
     },
     "execution_count": 4,
     "metadata": {},
     "output_type": "execute_result"
    }
   ],
   "source": [
    "even_numbers = []\n",
    "def isEven(num):\n",
    "    try:\n",
    "        num = int(num)\n",
    "    except:\n",
    "        print('Please enter a number')\n",
    "    if num % 2 == 0:\n",
    "        even_numbers.append(num)\n",
    "        return(\"This number is even. I'll add it to the list.\")\n",
    "    else:\n",
    "        return(\"This number is odd.\")\n",
    "isEven(input('please in put a number \\n'))"
   ]
  },
  {
   "cell_type": "code",
   "execution_count": 5,
   "metadata": {},
   "outputs": [
    {
     "name": "stdout",
     "output_type": "stream",
     "text": [
      "Please enter a number\n"
     ]
    },
    {
     "ename": "TypeError",
     "evalue": "unsupported operand type(s) for %: 'list' and 'int'",
     "output_type": "error",
     "traceback": [
      "\u001b[1;31m---------------------------------------------------------------------------\u001b[0m",
      "\u001b[1;31mTypeError\u001b[0m                                 Traceback (most recent call last)",
      "\u001b[1;32m<ipython-input-5-8dd9d6d66f47>\u001b[0m in \u001b[0;36m<module>\u001b[1;34m\u001b[0m\n\u001b[0;32m      1\u001b[0m \u001b[0mmy_list\u001b[0m \u001b[1;33m=\u001b[0m \u001b[1;33m[\u001b[0m\u001b[1;36m2\u001b[0m\u001b[1;33m,\u001b[0m\u001b[1;36m3\u001b[0m\u001b[1;33m,\u001b[0m\u001b[1;36m4\u001b[0m\u001b[1;33m,\u001b[0m\u001b[1;36m5\u001b[0m\u001b[1;33m,\u001b[0m\u001b[1;36m7\u001b[0m\u001b[1;33m,\u001b[0m\u001b[1;36m8\u001b[0m\u001b[1;33m,\u001b[0m\u001b[1;36m9\u001b[0m\u001b[1;33m]\u001b[0m\u001b[1;33m\u001b[0m\u001b[1;33m\u001b[0m\u001b[0m\n\u001b[1;32m----> 2\u001b[1;33m \u001b[0misEven\u001b[0m\u001b[1;33m(\u001b[0m\u001b[0mmy_list\u001b[0m\u001b[1;33m)\u001b[0m\u001b[1;33m\u001b[0m\u001b[1;33m\u001b[0m\u001b[0m\n\u001b[0m",
      "\u001b[1;32m<ipython-input-4-b96a08d07419>\u001b[0m in \u001b[0;36misEven\u001b[1;34m(num)\u001b[0m\n\u001b[0;32m      5\u001b[0m     \u001b[1;32mexcept\u001b[0m\u001b[1;33m:\u001b[0m\u001b[1;33m\u001b[0m\u001b[1;33m\u001b[0m\u001b[0m\n\u001b[0;32m      6\u001b[0m         \u001b[0mprint\u001b[0m\u001b[1;33m(\u001b[0m\u001b[1;34m'Please enter a number'\u001b[0m\u001b[1;33m)\u001b[0m\u001b[1;33m\u001b[0m\u001b[1;33m\u001b[0m\u001b[0m\n\u001b[1;32m----> 7\u001b[1;33m     \u001b[1;32mif\u001b[0m \u001b[0mnum\u001b[0m \u001b[1;33m%\u001b[0m \u001b[1;36m2\u001b[0m \u001b[1;33m==\u001b[0m \u001b[1;36m0\u001b[0m\u001b[1;33m:\u001b[0m\u001b[1;33m\u001b[0m\u001b[1;33m\u001b[0m\u001b[0m\n\u001b[0m\u001b[0;32m      8\u001b[0m         \u001b[0meven_numbers\u001b[0m\u001b[1;33m.\u001b[0m\u001b[0mappend\u001b[0m\u001b[1;33m(\u001b[0m\u001b[0mnum\u001b[0m\u001b[1;33m)\u001b[0m\u001b[1;33m\u001b[0m\u001b[1;33m\u001b[0m\u001b[0m\n\u001b[0;32m      9\u001b[0m         \u001b[1;32mreturn\u001b[0m\u001b[1;33m(\u001b[0m\u001b[1;34m\"This number is even. I'll add it to the list.\"\u001b[0m\u001b[1;33m)\u001b[0m\u001b[1;33m\u001b[0m\u001b[1;33m\u001b[0m\u001b[0m\n",
      "\u001b[1;31mTypeError\u001b[0m: unsupported operand type(s) for %: 'list' and 'int'"
     ]
    }
   ],
   "source": [
    "my_list = [2,3,4,5,7,8,9]\n",
    "isEven(my_list)"
   ]
  },
  {
   "cell_type": "code",
   "execution_count": 6,
   "metadata": {},
   "outputs": [
    {
     "name": "stdout",
     "output_type": "stream",
     "text": [
      "2 : This number is even. I'll add it to the list. \n",
      "3 : This number is odd. \n",
      "4 : This number is even. I'll add it to the list. \n",
      "5 : This number is odd. \n",
      "7 : This number is odd. \n",
      "8 : This number is even. I'll add it to the list. \n",
      "9 : This number is odd. \n"
     ]
    }
   ],
   "source": [
    "def isEven(num_list):\n",
    "    for ele in num_list:\n",
    "        if ele % 2 == 0:\n",
    "            even_numbers.append(ele)\n",
    "            print(str(ele),\": This number is even. I'll add it to the list. \")\n",
    "        else:\n",
    "            print(str(ele),\": This number is odd. \")\n",
    "isEven(my_list)"
   ]
  },
  {
   "cell_type": "markdown",
   "metadata": {},
   "source": [
    "### Additional exercise\n",
    "* Create an odd number function.\n",
    "* Use the input function to prompt users to enter an integer for the computer to decide it is odd or even number."
   ]
  },
  {
   "cell_type": "code",
   "execution_count": 7,
   "metadata": {},
   "outputs": [
    {
     "name": "stdout",
     "output_type": "stream",
     "text": [
      "please in put a number \n",
      "5\n"
     ]
    },
    {
     "data": {
      "text/plain": [
       "\"This number is odd. I'll add it to the list.\""
      ]
     },
     "execution_count": 7,
     "metadata": {},
     "output_type": "execute_result"
    }
   ],
   "source": [
    "odd_numbers = []\n",
    "def isOdd(num):\n",
    "    try:\n",
    "        num = int(num)\n",
    "    except:\n",
    "        print('Please enter a number')\n",
    "    if num % 2 != 0:\n",
    "        odd_numbers.append(num)\n",
    "        return(\"This number is odd. I'll add it to the list.\")\n",
    "    else:\n",
    "        return(\"This number is even.\")\n",
    "isOdd(input('please in put a number \\n'))"
   ]
  },
  {
   "cell_type": "markdown",
   "metadata": {},
   "source": [
    "### EXERCISE:\n",
    "I'm hungry - will you order me a pizza? Create a function for checking whether or not I like various ingredients on a pizza, and return the results as a string. As part of your checking, you should also check to see if the input is actually a string or not (since I defintely DON'T like integers and floats on my pizza). I'll give you a few hints:\n",
    "* It will DEFINITELY help if you plan out your code in advance with a script workflow (see section 1. 4. for further details).\n",
    "* topping_list below contains details of all the ingredients I like.\n",
    "* You can use \"in\" as a way to see if something appears within any given list  (i.e. \"if THING in LIST\" etc).\n",
    "* Think about the various techniques you'll need to use to do all this work you DO know all these already, but may need to review earlier sections to refresh your memory."
   ]
  },
  {
   "cell_type": "code",
   "execution_count": 8,
   "metadata": {},
   "outputs": [
    {
     "name": "stdout",
     "output_type": "stream",
     "text": [
      "5 : This is not a even gradient, I do not like numbers!\n",
      "tomatoes : Yes, I do love it!\n",
      "egg : sorry, I do not like it.\n",
      "shrimp : sorry, I do not like it.\n",
      "ham : Yes, I do love it!\n",
      "6 : This is not a even gradient, I do not like numbers!\n"
     ]
    }
   ],
   "source": [
    "topping_list = [\"cheese\", \"pepperoni\", \"sausage\", \"bacon\", \"anchovies\",\n",
    "                \"salami\", \"chorizo\", \"ham\", \"jalapenos\", \"pineapple\",\n",
    "                \"olives\", \"tomatoes\"]\n",
    "\n",
    "def check_topping(input_list):\n",
    "    for ele in input_list:\n",
    "        if isinstance(ele, int) or isinstance(ele,float):\n",
    "            print(ele,': This is not a even gradient, I do not like numbers!')\n",
    "        else:\n",
    "            if ele in topping_list:\n",
    "                print(ele,': Yes, I do love it!')\n",
    "            else:\n",
    "                print(ele,': sorry, I do not like it.')\n",
    "\n",
    "my_material = [5,\"tomatoes\",'egg','shrimp',\"ham\",6]\n",
    "check_topping(my_material)"
   ]
  }
 ],
 "metadata": {
  "kernelspec": {
   "display_name": "Python 3",
   "language": "python",
   "name": "python3"
  },
  "language_info": {
   "codemirror_mode": {
    "name": "ipython",
    "version": 3
   },
   "file_extension": ".py",
   "mimetype": "text/x-python",
   "name": "python",
   "nbconvert_exporter": "python",
   "pygments_lexer": "ipython3",
   "version": "3.7.6"
  }
 },
 "nbformat": 4,
 "nbformat_minor": 4
}
