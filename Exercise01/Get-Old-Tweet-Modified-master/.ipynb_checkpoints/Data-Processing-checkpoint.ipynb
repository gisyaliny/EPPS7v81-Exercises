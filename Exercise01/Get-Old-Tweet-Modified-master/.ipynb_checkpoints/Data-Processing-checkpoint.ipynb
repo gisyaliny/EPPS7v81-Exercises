{
 "cells": [
  {
   "cell_type": "markdown",
   "metadata": {},
   "source": [
    "## Loading helper package"
   ]
  },
  {
   "cell_type": "code",
   "execution_count": 1,
   "metadata": {},
   "outputs": [],
   "source": [
    "import pandas as pd\n",
    "import matplotlib.pyplot as plt\n",
    "%matplotlib inline\n",
    "from datetime import timedelta\n",
    "from datetime import datetime\n",
    "plt.rcParams['figure.figsize'] = [12, 10]"
   ]
  },
  {
   "cell_type": "markdown",
   "metadata": {},
   "source": [
    "## Load Data and do the cleaning"
   ]
  },
  {
   "cell_type": "code",
   "execution_count": 2,
   "metadata": {},
   "outputs": [
    {
     "name": "stdout",
     "output_type": "stream",
     "text": [
      "list index out of range\n",
      "Error Line: MarioAntoGuzman;2020-06-10 21:04;0;2;\"#CoronavirusEnChile 192 fallecidos +/2.475 muertes en 99 días #COVID19; @colmedchile @sochimioficial @SochinfOficial piden “Mesa Salud; ministra @KarlaEnAccion asume “instructivo mal hecho”; @WHO y muertes ; #GeorgeFloydFuneral @eleoviedoc @opsomschile #noticiasencuarentenapic.twitter.com/w8YPM44HNr\";;@colmedchile @sochimioficial @SochinfOficial @KarlaEnAccion @WHO @eleoviedoc @opsomschile;#CoronavirusEnChile #COVID19 #GeorgeFloydFuneral #noticiasencuarentenapic;\"1270824212316524550\";https://twitter.com/MarioAntoGuzman/status/1270824212316524550\n"
     ]
    }
   ],
   "source": [
    "import csv\n",
    "\n",
    "filename = 'covid19.csv'\n",
    "with open(filename, encoding='utf-8', errors='ignore') as f:\n",
    "    reader = csv.reader(f)\n",
    "    # read the first row\n",
    "    header_row = next(reader)\n",
    "    df = []\n",
    "    for row in reader:\n",
    "        row_template = {}.fromkeys(str(header_row[0]).split(';'))\n",
    "        colnames = list(row_template.keys())\n",
    "        content = list(filter(None,str(row[0]).replace('nan','').split(';')))\n",
    "        try:\n",
    "            for index,ele in enumerate(content):\n",
    "                row_template[colnames[index]] = ele\n",
    "        except(IndexError) as e:\n",
    "            print(e)\n",
    "            print('Error Line:' , row[0])\n",
    "        df.append(row_template)\n",
    "    "
   ]
  },
  {
   "cell_type": "code",
   "execution_count": 3,
   "metadata": {},
   "outputs": [
    {
     "data": {
      "text/html": [
       "<div>\n",
       "<style scoped>\n",
       "    .dataframe tbody tr th:only-of-type {\n",
       "        vertical-align: middle;\n",
       "    }\n",
       "\n",
       "    .dataframe tbody tr th {\n",
       "        vertical-align: top;\n",
       "    }\n",
       "\n",
       "    .dataframe thead th {\n",
       "        text-align: right;\n",
       "    }\n",
       "</style>\n",
       "<table border=\"1\" class=\"dataframe\">\n",
       "  <thead>\n",
       "    <tr style=\"text-align: right;\">\n",
       "      <th></th>\n",
       "      <th>username</th>\n",
       "      <th>date</th>\n",
       "      <th>retweets</th>\n",
       "      <th>favorites</th>\n",
       "      <th>text</th>\n",
       "      <th>geo</th>\n",
       "      <th>mentions</th>\n",
       "      <th>hashtags</th>\n",
       "      <th>id</th>\n",
       "      <th>permalink</th>\n",
       "    </tr>\n",
       "  </thead>\n",
       "  <tbody>\n",
       "    <tr>\n",
       "      <th>0</th>\n",
       "      <td>WizWackaTroll</td>\n",
       "      <td>2020-06-10 22:19</td>\n",
       "      <td>0</td>\n",
       "      <td>0</td>\n",
       "      <td>\"GOP Police state Tear gas pain nerve gases de...</td>\n",
       "      <td>None</td>\n",
       "      <td>None</td>\n",
       "      <td>None</td>\n",
       "      <td>None</td>\n",
       "      <td>None</td>\n",
       "    </tr>\n",
       "    <tr>\n",
       "      <th>1</th>\n",
       "      <td>feraggio1974</td>\n",
       "      <td>2020-06-10 22:19</td>\n",
       "      <td>0</td>\n",
       "      <td>0</td>\n",
       "      <td>\"X FAVOR RT ⁦ @PatricioBarton⁩ ⁦ @VHMok⁩ ⁦ @Ga...</td>\n",
       "      <td>@PatricioBarton @VHMok @Gatosylvestre @arilija...</td>\n",
       "      <td>#acahayunproblema #polkanopaga #QuedateEnCasa ...</td>\n",
       "      <td>\"1270843042795343872\"</td>\n",
       "      <td>https://twitter.com/feraggio1974/status/127084...</td>\n",
       "      <td>None</td>\n",
       "    </tr>\n",
       "    <tr>\n",
       "      <th>2</th>\n",
       "      <td>BigC927</td>\n",
       "      <td>2020-06-10 22:19</td>\n",
       "      <td>0</td>\n",
       "      <td>0</td>\n",
       "      <td>\"NASCAR banning confederate flags at their eve...</td>\n",
       "      <td>\"1270843036268810241\"</td>\n",
       "      <td>https://twitter.com/BigC927/status/12708430362...</td>\n",
       "      <td>None</td>\n",
       "      <td>None</td>\n",
       "      <td>None</td>\n",
       "    </tr>\n",
       "    <tr>\n",
       "      <th>3</th>\n",
       "      <td>ferricoxide</td>\n",
       "      <td>2020-06-10 22:19</td>\n",
       "      <td>0</td>\n",
       "      <td>0</td>\n",
       "      <td>\"I'm just glad he was able to continue treatme...</td>\n",
       "      <td>\"1270843036008882177\"</td>\n",
       "      <td>https://twitter.com/ferricoxide/status/1270843...</td>\n",
       "      <td>None</td>\n",
       "      <td>None</td>\n",
       "      <td>None</td>\n",
       "    </tr>\n",
       "    <tr>\n",
       "      <th>4</th>\n",
       "      <td>mamaofwonders</td>\n",
       "      <td>2020-06-10 22:19</td>\n",
       "      <td>0</td>\n",
       "      <td>0</td>\n",
       "      <td>\"This is FALSE. Why giving aide to a country t...</td>\n",
       "      <td>@MagufuliJP</td>\n",
       "      <td>\"1270843034792591360\"</td>\n",
       "      <td>https://twitter.com/mamaofwonders/status/12708...</td>\n",
       "      <td>None</td>\n",
       "      <td>None</td>\n",
       "    </tr>\n",
       "  </tbody>\n",
       "</table>\n",
       "</div>"
      ],
      "text/plain": [
       "        username              date retweets favorites  \\\n",
       "0  WizWackaTroll  2020-06-10 22:19        0         0   \n",
       "1   feraggio1974  2020-06-10 22:19        0         0   \n",
       "2        BigC927  2020-06-10 22:19        0         0   \n",
       "3    ferricoxide  2020-06-10 22:19        0         0   \n",
       "4  mamaofwonders  2020-06-10 22:19        0         0   \n",
       "\n",
       "                                                text  \\\n",
       "0  \"GOP Police state Tear gas pain nerve gases de...   \n",
       "1  \"X FAVOR RT ⁦ @PatricioBarton⁩ ⁦ @VHMok⁩ ⁦ @Ga...   \n",
       "2  \"NASCAR banning confederate flags at their eve...   \n",
       "3  \"I'm just glad he was able to continue treatme...   \n",
       "4  \"This is FALSE. Why giving aide to a country t...   \n",
       "\n",
       "                                                 geo  \\\n",
       "0                                               None   \n",
       "1  @PatricioBarton @VHMok @Gatosylvestre @arilija...   \n",
       "2                              \"1270843036268810241\"   \n",
       "3                              \"1270843036008882177\"   \n",
       "4                                        @MagufuliJP   \n",
       "\n",
       "                                            mentions  \\\n",
       "0                                               None   \n",
       "1  #acahayunproblema #polkanopaga #QuedateEnCasa ...   \n",
       "2  https://twitter.com/BigC927/status/12708430362...   \n",
       "3  https://twitter.com/ferricoxide/status/1270843...   \n",
       "4                              \"1270843034792591360\"   \n",
       "\n",
       "                                            hashtags  \\\n",
       "0                                               None   \n",
       "1                              \"1270843042795343872\"   \n",
       "2                                               None   \n",
       "3                                               None   \n",
       "4  https://twitter.com/mamaofwonders/status/12708...   \n",
       "\n",
       "                                                  id permalink  \n",
       "0                                               None      None  \n",
       "1  https://twitter.com/feraggio1974/status/127084...      None  \n",
       "2                                               None      None  \n",
       "3                                               None      None  \n",
       "4                                               None      None  "
      ]
     },
     "execution_count": 3,
     "metadata": {},
     "output_type": "execute_result"
    }
   ],
   "source": [
    "df = pd.DataFrame(df)\n",
    "df.head()"
   ]
  },
  {
   "cell_type": "markdown",
   "metadata": {},
   "source": [
    "**Check how many tweets we have**"
   ]
  },
  {
   "cell_type": "code",
   "execution_count": 4,
   "metadata": {},
   "outputs": [
    {
     "data": {
      "text/plain": [
       "(8000, 10)"
      ]
     },
     "execution_count": 4,
     "metadata": {},
     "output_type": "execute_result"
    }
   ],
   "source": [
    "df.shape"
   ]
  },
  {
   "cell_type": "markdown",
   "metadata": {},
   "source": [
    "**Remove the minus information and do the categorisation**"
   ]
  },
  {
   "cell_type": "code",
   "execution_count": 5,
   "metadata": {},
   "outputs": [
    {
     "data": {
      "text/plain": [
       "0    2020/06/10-22\n",
       "1    2020/06/10-22\n",
       "2    2020/06/10-22\n",
       "3    2020/06/10-22\n",
       "4    2020/06/10-22\n",
       "5    2020/06/10-22\n",
       "6    2020/06/10-22\n",
       "7    2020/06/10-22\n",
       "8    2020/06/10-22\n",
       "9    2020/06/10-22\n",
       "Name: Date, dtype: object"
      ]
     },
     "execution_count": 5,
     "metadata": {},
     "output_type": "execute_result"
    }
   ],
   "source": [
    "df['Date'] = df.date.map(lambda x: datetime.strptime(x,'%Y-%m-%d %H:%M').strftime('%Y/%m/%d-%H'))\n",
    "df['Date'][:10]"
   ]
  },
  {
   "cell_type": "markdown",
   "metadata": {},
   "source": [
    "## Simple Visualization"
   ]
  },
  {
   "cell_type": "code",
   "execution_count": 6,
   "metadata": {},
   "outputs": [
    {
     "data": {
      "image/png": "[encoded data removed]",
      "text/plain": [
       "<Figure size 864x720 with 1 Axes>"
      ]
     },
     "metadata": {
      "needs_background": "light"
     },
     "output_type": "display_data"
    }
   ],
   "source": [
    "df_date = df.groupby('Date').size().reset_index(name = 'Frequncy')\n",
    "plt.plot(df_date.Date,df_date.Frequncy)\n",
    "plt.show()"
   ]
  },
  {
   "cell_type": "code",
   "execution_count": 7,
   "metadata": {},
   "outputs": [
    {
     "data": {
      "image/png": "[encoded data removed]",
      "text/plain": [
       "<Figure size 864x720 with 1 Axes>"
      ]
     },
     "metadata": {
      "needs_background": "light"
     },
     "output_type": "display_data"
    }
   ],
   "source": [
    "df_favorites = df.groupby('favorites').size().reset_index(name = 'Frequncy')\n",
    "plt.plot(df_favorites.favorites,df_favorites.Frequncy)\n",
    "plt.xticks([10,30,80],['Not many','Fair','A lots of'])\n",
    "plt.show()"
   ]
  },
  {
   "cell_type": "markdown",
   "metadata": {},
   "source": [
    "## Save Data"
   ]
  },
  {
   "cell_type": "code",
   "execution_count": 8,
   "metadata": {},
   "outputs": [],
   "source": [
    "df.to_csv('Covid19_organized.csv')"
   ]
  }
 ],
 "metadata": {
  "kernelspec": {
   "display_name": "Python 3",
   "language": "python",
   "name": "python3"
  },
  "language_info": {
   "codemirror_mode": {
    "name": "ipython",
    "version": 3
   },
   "file_extension": ".py",
   "mimetype": "text/x-python",
   "name": "python",
   "nbconvert_exporter": "python",
   "pygments_lexer": "ipython3",
   "version": "3.7.6"
  }
 },
 "nbformat": 4,
 "nbformat_minor": 4
}
