{
 "cells": [
  {
   "cell_type": "markdown",
   "metadata": {},
   "source": [
    "# Data Structure\n",
    "* [5. 1. 1. GENERAL PURPOSE COMMANDS](#511)\n",
    "* [5. 1. 2. LISTS AND LIST METHODS](#512)\n",
    "* [5. 2. TUPLES](#52)\n",
    "* [5. 3. 1. DICTIONARIES AND DICTIONARY METHODS](#531)\n",
    "* [5. 3. 2. DICTIONARIES AND DICTIONARY METHODS EXERCISE](#532)"
   ]
  },
  {
   "cell_type": "markdown",
   "metadata": {},
   "source": [
    "### 5. 1. 1. GENERAL PURPOSE COMMANDS<a id = '511'> </a>\n",
    "* Check every line for bugs\n",
    "* Work on the exercise in comments, some need be done in console\n",
    "* Include your answers in comments"
   ]
  },
  {
   "cell_type": "markdown",
   "metadata": {},
   "source": [
    "Here are a few 'all-purpose' commands that can be used across lots of contexts/objects in Python e.g. lists, tuples, dictionaries, strings, etc). However, bear in mind that some of the 'arguments' you feed them might not make sense and might produce an error - for instance, what would the absolute value of a string be?).   \n",
    "The arguments passed to the commands below are just examples to demonstrate the concepts. You should try out these commands with different types of variables and objects in the shell, to get a feel for how they work."
   ]
  },
  {
   "cell_type": "code",
   "execution_count": 1,
   "metadata": {},
   "outputs": [
    {
     "data": {
      "text/plain": [
       "5"
      ]
     },
     "execution_count": 1,
     "metadata": {},
     "output_type": "execute_result"
    }
   ],
   "source": [
    "max(1, 2, 3, 4, 5) #gives the maximum value of the argument"
   ]
  },
  {
   "cell_type": "code",
   "execution_count": 2,
   "metadata": {},
   "outputs": [
    {
     "data": {
      "text/plain": [
       "1"
      ]
     },
     "execution_count": 2,
     "metadata": {},
     "output_type": "execute_result"
    }
   ],
   "source": [
    "min(1, 2, 3, 4, 5) #gives the minimum value of the argument"
   ]
  },
  {
   "cell_type": "code",
   "execution_count": 3,
   "metadata": {},
   "outputs": [
    {
     "data": {
      "text/plain": [
       "1"
      ]
     },
     "execution_count": 3,
     "metadata": {},
     "output_type": "execute_result"
    }
   ],
   "source": [
    "abs(-1) #gives the absolute value of the argument\n",
    "        #(i.e. turns negative numbers to positive values) - applies to integers and floats only"
   ]
  },
  {
   "cell_type": "code",
   "execution_count": 4,
   "metadata": {},
   "outputs": [
    {
     "data": {
      "text/plain": [
       "float"
      ]
     },
     "execution_count": 4,
     "metadata": {},
     "output_type": "execute_result"
    }
   ],
   "source": [
    "type(-50.5) #gives the variable type"
   ]
  },
  {
   "cell_type": "code",
   "execution_count": 5,
   "metadata": {},
   "outputs": [
    {
     "data": {
      "text/plain": [
       "17"
      ]
     },
     "execution_count": 5,
     "metadata": {},
     "output_type": "execute_result"
    }
   ],
   "source": [
    "len(\"This is a string.\") #gives the length of the argument"
   ]
  },
  {
   "cell_type": "markdown",
   "metadata": {},
   "source": [
    "#### You can also pass other objects to these commands:"
   ]
  },
  {
   "cell_type": "code",
   "execution_count": 6,
   "metadata": {},
   "outputs": [
    {
     "data": {
      "text/plain": [
       "6"
      ]
     },
     "execution_count": 6,
     "metadata": {},
     "output_type": "execute_result"
    }
   ],
   "source": [
    "var1 = (2, 3, 1, 6, 3, 6, 3, 5)\n",
    "max(var1)"
   ]
  },
  {
   "cell_type": "code",
   "execution_count": 7,
   "metadata": {},
   "outputs": [
    {
     "data": {
      "text/plain": [
       "1"
      ]
     },
     "execution_count": 7,
     "metadata": {},
     "output_type": "execute_result"
    }
   ],
   "source": [
    "min(var1)"
   ]
  },
  {
   "cell_type": "code",
   "execution_count": 8,
   "metadata": {},
   "outputs": [
    {
     "data": {
      "text/plain": [
       "tuple"
      ]
     },
     "execution_count": 8,
     "metadata": {},
     "output_type": "execute_result"
    }
   ],
   "source": [
    "type(var1)"
   ]
  },
  {
   "cell_type": "code",
   "execution_count": 9,
   "metadata": {},
   "outputs": [
    {
     "data": {
      "text/plain": [
       "8"
      ]
     },
     "execution_count": 9,
     "metadata": {},
     "output_type": "execute_result"
    }
   ],
   "source": [
    "len(var1)"
   ]
  },
  {
   "cell_type": "markdown",
   "metadata": {},
   "source": [
    "###  5. 1. 2. LISTS AND LIST METHODS <a id = '512'></a>\n",
    "* Check every line for bugs\n",
    "* Work on the exercise in comments"
   ]
  },
  {
   "cell_type": "markdown",
   "metadata": {},
   "source": [
    "#### Here is a simple list:"
   ]
  },
  {
   "cell_type": "code",
   "execution_count": 10,
   "metadata": {},
   "outputs": [],
   "source": [
    "animals = [\"dog\", \"cat\", \"bat\"]"
   ]
  },
  {
   "cell_type": "markdown",
   "metadata": {},
   "source": [
    "Call animals in the shell. Why does it look like that? HINT: look at all the commands below that Python is enacting when we run this script - lines 10 through 26 (and lines 56 nd 57) are performing tasks which are altering the original animals list."
   ]
  },
  {
   "cell_type": "markdown",
   "metadata": {},
   "source": [
    "#### Here is a selection of list methods, with which you can play around with lists:"
   ]
  },
  {
   "cell_type": "code",
   "execution_count": 11,
   "metadata": {},
   "outputs": [
    {
     "data": {
      "text/plain": [
       "'bat'"
      ]
     },
     "execution_count": 11,
     "metadata": {},
     "output_type": "execute_result"
    }
   ],
   "source": [
    "animals[2] #Calls the value at index position 2."
   ]
  },
  {
   "cell_type": "code",
   "execution_count": 12,
   "metadata": {},
   "outputs": [
    {
     "data": {
      "text/plain": [
       "'dog'"
      ]
     },
     "execution_count": 12,
     "metadata": {},
     "output_type": "execute_result"
    }
   ],
   "source": [
    "animals[0] #Calls the first entry in the list (because zero-indexing)"
   ]
  },
  {
   "cell_type": "code",
   "execution_count": 13,
   "metadata": {},
   "outputs": [
    {
     "data": {
      "text/plain": [
       "'bat'"
      ]
     },
     "execution_count": 13,
     "metadata": {},
     "output_type": "execute_result"
    }
   ],
   "source": [
    "animals[-1] #Calls the last entry in the list"
   ]
  },
  {
   "cell_type": "code",
   "execution_count": 14,
   "metadata": {},
   "outputs": [
    {
     "data": {
      "text/plain": [
       "['dog', 'cat', 'rat']"
      ]
     },
     "execution_count": 14,
     "metadata": {},
     "output_type": "execute_result"
    }
   ],
   "source": [
    "animals[2] = \"rat\" #replaces \"bat\" with \"rat\" (because zero-indexing)\n",
    "animals"
   ]
  },
  {
   "cell_type": "code",
   "execution_count": 15,
   "metadata": {},
   "outputs": [
    {
     "data": {
      "text/plain": [
       "['dog', 'cat', 'rat', 'ibex']"
      ]
     },
     "execution_count": 15,
     "metadata": {},
     "output_type": "execute_result"
    }
   ],
   "source": [
    "animals.append(\"ibex\") #appends \"ibex\" to the end of the list.\n",
    "animals"
   ]
  },
  {
   "cell_type": "code",
   "execution_count": 16,
   "metadata": {},
   "outputs": [
    {
     "data": {
      "text/plain": [
       "['cat', 'dog', 'ibex', 'rat']"
      ]
     },
     "execution_count": 16,
     "metadata": {},
     "output_type": "execute_result"
    }
   ],
   "source": [
    "animals.sort() #sorts the list alphabetically (or numerically if integer/float)\n",
    "animals"
   ]
  },
  {
   "cell_type": "code",
   "execution_count": 17,
   "metadata": {},
   "outputs": [
    {
     "data": {
      "text/plain": [
       "0"
      ]
     },
     "execution_count": 17,
     "metadata": {},
     "output_type": "execute_result"
    }
   ],
   "source": [
    "animals.index(\"cat\") #tells you what index position an item is at"
   ]
  },
  {
   "cell_type": "code",
   "execution_count": 18,
   "metadata": {},
   "outputs": [
    {
     "data": {
      "text/plain": [
       "['cat', 'llama', 'dog', 'ibex', 'rat']"
      ]
     },
     "execution_count": 18,
     "metadata": {},
     "output_type": "execute_result"
    }
   ],
   "source": [
    "animals.insert(1, \"llama\") #inserts \"llama\" into index position 1. Everything after that gets knocked on 1 place.\n",
    "animals"
   ]
  },
  {
   "cell_type": "code",
   "execution_count": 19,
   "metadata": {},
   "outputs": [
    {
     "data": {
      "text/plain": [
       "'ibex'"
      ]
     },
     "execution_count": 19,
     "metadata": {},
     "output_type": "execute_result"
    }
   ],
   "source": [
    "animals.pop(3) #removes the item at the denoted index and 'returns' it"
   ]
  },
  {
   "cell_type": "code",
   "execution_count": 20,
   "metadata": {},
   "outputs": [
    {
     "data": {
      "text/plain": [
       "['cat', 'llama', 'dog']"
      ]
     },
     "execution_count": 20,
     "metadata": {},
     "output_type": "execute_result"
    }
   ],
   "source": [
    "del(animals[3]) #removes the item at the denoted index but doesn't return it\n",
    "animals"
   ]
  },
  {
   "cell_type": "code",
   "execution_count": 21,
   "metadata": {},
   "outputs": [
    {
     "data": {
      "text/plain": [
       "['cat', 'llama']"
      ]
     },
     "execution_count": 21,
     "metadata": {},
     "output_type": "execute_result"
    }
   ],
   "source": [
    "animals.remove(\"dog\") #removes the item if it finds it\n",
    "animals"
   ]
  },
  {
   "cell_type": "code",
   "execution_count": 22,
   "metadata": {},
   "outputs": [
    {
     "data": {
      "text/plain": [
       "['cat']"
      ]
     },
     "execution_count": 22,
     "metadata": {},
     "output_type": "execute_result"
    }
   ],
   "source": [
    "animals[0:1:1] # calls all the info at index positions from 0 to 1 (not including 1), \n",
    "               # in steps of 1. NOTE: if you don't set the step (i.e.\n",
    "               # animals[0:1]) Python assumes you mean in steps of 1."
   ]
  },
  {
   "cell_type": "markdown",
   "metadata": {},
   "source": [
    "####  What is animals[-3]?\n",
    "* The third one counting from the bottom"
   ]
  },
  {
   "cell_type": "code",
   "execution_count": 23,
   "metadata": {},
   "outputs": [
    {
     "data": {
      "text/plain": [
       "'cat'"
      ]
     },
     "execution_count": 23,
     "metadata": {},
     "output_type": "execute_result"
    }
   ],
   "source": [
    "animals = [\"dog\", \"cat\", \"bat\",'llama']\n",
    "animals[-3]"
   ]
  },
  {
   "cell_type": "markdown",
   "metadata": {},
   "source": [
    "**NOTE:** There's a difference between round and square brackets here. Round brackets are what Python uses to accept an 'argument' (i.e. animals.index(\"cat\") needs the argument \"cat\" so it knows what index to produce for you). Sometimes no argument is necessary - e.g. you don't need to tell Python any extra information for animals.sort(), it just sorts the list.   \n",
    "Square brackets on the other hand are to do with index positions."
   ]
  },
  {
   "cell_type": "markdown",
   "metadata": {},
   "source": [
    "#### You can also have lists within lists:"
   ]
  },
  {
   "cell_type": "code",
   "execution_count": 24,
   "metadata": {},
   "outputs": [
    {
     "data": {
      "text/plain": [
       "[['dog', 'cat', 'bat'],\n",
       " ['parrot', 'budgie', 'eagle'],\n",
       " ['chameleon', 'komodo dragon', 'gecko'],\n",
       " ['sturgeon', 'marlin', 'shark']]"
      ]
     },
     "execution_count": 24,
     "metadata": {},
     "output_type": "execute_result"
    }
   ],
   "source": [
    "mammals = [\"dog\", \"cat\", \"bat\"]\n",
    "birds = [\"parrot\", \"budgie\", \"eagle\"]\n",
    "reptiles = [\"chameleon\", \"komodo dragon\", \"gecko\"]\n",
    "fish = [\"sturgeon\", \"marlin\", \"shark\"]\n",
    "planet_earth =[mammals, birds, reptiles, fish]\n",
    "planet_earth"
   ]
  },
  {
   "cell_type": "markdown",
   "metadata": {},
   "source": [
    "#### QUESTION: What do you think the following commands will return? Guess first, then type them out in the shell to verify."
   ]
  },
  {
   "cell_type": "markdown",
   "metadata": {},
   "source": [
    "**Original**"
   ]
  },
  {
   "cell_type": "code",
   "execution_count": 25,
   "metadata": {},
   "outputs": [
    {
     "ename": "NameError",
     "evalue": "name 'O' is not defined",
     "output_type": "error",
     "traceback": [
      "\u001b[1;31m---------------------------------------------------------------------------\u001b[0m",
      "\u001b[1;31mNameError\u001b[0m                                 Traceback (most recent call last)",
      "\u001b[1;32m<ipython-input-25-1f695d1ed919>\u001b[0m in \u001b[0;36m<module>\u001b[1;34m\u001b[0m\n\u001b[0;32m      2\u001b[0m \u001b[0mplanet_earth\u001b[0m\u001b[1;33m[\u001b[0m\u001b[1;36m3\u001b[0m\u001b[1;33m]\u001b[0m \u001b[1;31m# fish\u001b[0m\u001b[1;33m\u001b[0m\u001b[1;33m\u001b[0m\u001b[0m\n\u001b[0;32m      3\u001b[0m \u001b[0mplanet_earth\u001b[0m\u001b[1;33m[\u001b[0m\u001b[1;36m1\u001b[0m\u001b[1;33m]\u001b[0m\u001b[1;33m[\u001b[0m\u001b[1;36m1\u001b[0m\u001b[1;33m]\u001b[0m \u001b[1;31m# budgie\u001b[0m\u001b[1;33m\u001b[0m\u001b[1;33m\u001b[0m\u001b[0m\n\u001b[1;32m----> 4\u001b[1;33m \u001b[0mplanet_earth\u001b[0m\u001b[1;33m[\u001b[0m\u001b[0mO\u001b[0m\u001b[1;33m]\u001b[0m\u001b[1;33m[\u001b[0m\u001b[1;36m2\u001b[0m\u001b[1;33m]\u001b[0m \u001b[1;31m# bat\u001b[0m\u001b[1;33m\u001b[0m\u001b[1;33m\u001b[0m\u001b[0m\n\u001b[0m",
      "\u001b[1;31mNameError\u001b[0m: name 'O' is not defined"
     ]
    }
   ],
   "source": [
    "planet_earth[1] # birds\n",
    "planet_earth[3] # fish\n",
    "planet_earth[1][1] # budgie\n",
    "planet_earth[O][2] # bat"
   ]
  },
  {
   "cell_type": "markdown",
   "metadata": {},
   "source": [
    "**Modified**"
   ]
  },
  {
   "cell_type": "code",
   "execution_count": 26,
   "metadata": {},
   "outputs": [
    {
     "name": "stdout",
     "output_type": "stream",
     "text": [
      "['parrot', 'budgie', 'eagle']\n",
      "['sturgeon', 'marlin', 'shark']\n",
      "budgie\n",
      "bat\n"
     ]
    }
   ],
   "source": [
    "print(planet_earth[1]) # birds\n",
    "print(planet_earth[3]) # fish\n",
    "print(planet_earth[1][1]) # budgie\n",
    "print(planet_earth[0][2]) # bat"
   ]
  },
  {
   "cell_type": "markdown",
   "metadata": {},
   "source": [
    "Each of these results can be stored - they're objects in and of themselves. So let's store an index position as a variable, then use that variable to do something with a list."
   ]
  },
  {
   "cell_type": "code",
   "execution_count": 27,
   "metadata": {},
   "outputs": [
    {
     "data": {
      "text/plain": [
       "['dog', 'cobra', 'cat', 'bat', 'llama']"
      ]
     },
     "execution_count": 27,
     "metadata": {},
     "output_type": "execute_result"
    }
   ],
   "source": [
    "cat_index = animals.index(\"cat\")\n",
    "animals.insert(cat_index, \"cobra\")\n",
    "animals"
   ]
  },
  {
   "cell_type": "markdown",
   "metadata": {},
   "source": [
    "Can you see what we did in these two lines?   \n",
    "* We assigned the index position number of \"cat\" to a variable cat_index, then we used that variable as an argument in animals.insert() (which requires an index position, which we give by cat_index rather than by number, and a thing to insert, which we gave as the string \"cobra\")."
   ]
  },
  {
   "cell_type": "markdown",
   "metadata": {},
   "source": [
    "## 5. 2. TUPLES\n",
    "* Check every line for bugs\n",
    "* Work on the exercise in comments\n",
    "In essence, just lists that are immutable (i.e. once assigned, there are no methods for fiddling with them. Have a look at the \"Tuples and Tuple Methods in Action\" section to see why this might be handy)."
   ]
  },
  {
   "cell_type": "code",
   "execution_count": 28,
   "metadata": {},
   "outputs": [
    {
     "data": {
      "text/plain": [
       "10"
      ]
     },
     "execution_count": 28,
     "metadata": {},
     "output_type": "execute_result"
    }
   ],
   "source": [
    "my_tuple = (0, 10, 30)\n",
    "my_tuple[1] #calls the item at index position 1."
   ]
  },
  {
   "cell_type": "markdown",
   "metadata": {},
   "source": [
    "As with other data structures like lists and dictionaries, you can also build tuples from existing values, and these don't have to contain all the same types of data:"
   ]
  },
  {
   "cell_type": "code",
   "execution_count": 29,
   "metadata": {},
   "outputs": [
    {
     "data": {
      "text/plain": [
       "(32, 'Manchester', 'bald', 0.1)"
      ]
     },
     "execution_count": 29,
     "metadata": {},
     "output_type": "execute_result"
    }
   ],
   "source": [
    "age = 32\n",
    "location = \"Manchester\"\n",
    "hairstyle = \"bald\"\n",
    "energy_level = 0.1\n",
    "\n",
    "Phil = (age, location, hairstyle, energy_level)\n",
    "Phil"
   ]
  },
  {
   "cell_type": "markdown",
   "metadata": {},
   "source": [
    "That's about it...you can't do things like pop or remove things from tuples.   \n",
    "They're immutable. But, if you want to take bits from a tuple and play with them you can always assign them to a variable: `my_tuple_extract = my_tuple[1]`. And, some things like len(my_tuple) will work because they don't try to edit the data (they just describe it as \"metadata\" - data about data)."
   ]
  },
  {
   "cell_type": "markdown",
   "metadata": {},
   "source": [
    "## 5. 3. 1. DICTIONARIES AND DICTIONARY METHODS\n",
    "* Check every line for bugs\n",
    "* Work on the exercise in comments\n",
    "* Put your answers in comments   \n",
    "\n",
    "Dictionaries are just as important as lists, but we're not going to go over the same things here - a lot of what we did with lists was about using commands to find our way around objects, and those same sort of ideas apply here; we don't need to go over them in the same depth. However, dictionaries are different objects than lists, which means they do have some unique attributes/methods that we do need to outline.   \n",
    "The main difference: lists sort things by index position, but with dictionaries you can create your own names/labels for index positions. So, it's a different way of structuring data that may be more applicable for some tasks."
   ]
  },
  {
   "cell_type": "code",
   "execution_count": 30,
   "metadata": {},
   "outputs": [
    {
     "name": "stdout",
     "output_type": "stream",
     "text": [
      "woof\n"
     ]
    }
   ],
   "source": [
    "animal_dict = {\"dog\": \"woof\",\n",
    "               \"bird\": \"tweet\",\n",
    "               \"cow\": \"moo\",\n",
    "               \"pig\": \"oink\",\n",
    "               \"turtle\": \"?\"}\n",
    "animal_dict[\"fish\"] = \"glub\" #adds a new entry\n",
    "del animal_dict[\"fish\"] #removes an entry\n",
    "animal_dict[\"bird\"] = \"squawk\" #edits an entry\n",
    "print(animal_dict[\"dog\"]) #prints the value of the key"
   ]
  },
  {
   "cell_type": "code",
   "execution_count": 31,
   "metadata": {},
   "outputs": [
    {
     "data": {
      "text/plain": [
       "dict_items([('dog', 'woof'), ('bird', 'squawk'), ('cow', 'moo'), ('pig', 'oink'), ('turtle', '?')])"
      ]
     },
     "execution_count": 31,
     "metadata": {},
     "output_type": "execute_result"
    }
   ],
   "source": [
    "animal_dict.items() #breaks up dict into items, prints them #METADATA"
   ]
  },
  {
   "cell_type": "code",
   "execution_count": 32,
   "metadata": {},
   "outputs": [
    {
     "data": {
      "text/plain": [
       "dict_keys(['dog', 'bird', 'cow', 'pig', 'turtle'])"
      ]
     },
     "execution_count": 32,
     "metadata": {},
     "output_type": "execute_result"
    }
   ],
   "source": [
    "animal_dict.keys() #prints keys"
   ]
  },
  {
   "cell_type": "code",
   "execution_count": 33,
   "metadata": {},
   "outputs": [
    {
     "data": {
      "text/plain": [
       "dict_values(['woof', 'squawk', 'moo', 'oink', '?'])"
      ]
     },
     "execution_count": 33,
     "metadata": {},
     "output_type": "execute_result"
    }
   ],
   "source": [
    "animal_dict.values() #prints values"
   ]
  },
  {
   "cell_type": "markdown",
   "metadata": {},
   "source": [
    "**NOTE:** A lot of the methods we learned about with lists will work with dictionaries too. Things like .pop() and len() we learned about, but given there are so many more methods we can't cover, you'll find more overlaps the more you look into it and try things out for yourself.   \n",
    "**OTHER NOTE:** You can embed lists within dictionaries, dictionaries with dictionaries, dictionaries within lists, tuples within dictionaries within lists within lists,etc...complex data structures and hierarchies! Below, you can see an example of how to put a dictionary within another dictionary, and how to pull information out of it - this applies also to lists (except for lists, you will be using numerical index positions rather than string keys)."
   ]
  },
  {
   "cell_type": "code",
   "execution_count": 34,
   "metadata": {},
   "outputs": [
    {
     "data": {
      "text/plain": [
       "{'dict_within_dict': {'first thing': 1, 'second thing': 2, 'third thing': 3}}"
      ]
     },
     "execution_count": 34,
     "metadata": {},
     "output_type": "execute_result"
    }
   ],
   "source": [
    "dict1 = {\"first thing\": 1, \"second thing\": 2, \"third thing\": 3}\n",
    "dict2 = {\"dict_within_dict\": dict1}\n",
    "dict2"
   ]
  },
  {
   "cell_type": "markdown",
   "metadata": {},
   "source": [
    "Now let's pull the value for \"second thing\" out of dict1, using dictionary methods to work with dict2:"
   ]
  },
  {
   "cell_type": "code",
   "execution_count": 35,
   "metadata": {},
   "outputs": [
    {
     "data": {
      "text/plain": [
       "2"
      ]
     },
     "execution_count": 35,
     "metadata": {},
     "output_type": "execute_result"
    }
   ],
   "source": [
    "dict2[\"dict_within_dict\"][\"second thing\"]"
   ]
  },
  {
   "cell_type": "markdown",
   "metadata": {},
   "source": [
    "## 5. 3. 2. DICTIONARIES AND DICTIONARY METHODS EXERCISE\n",
    "* Check every line for bugs\n",
    "* Work on the exercise in comments\n",
    "* Include your answers in comments   "
   ]
  },
  {
   "cell_type": "markdown",
   "metadata": {},
   "source": [
    "### EXERCISE:\n",
    "(1) Write a dictionary (with your name as the variable name) that stores your following attributes:\n",
    "* Date of birth\n",
    "* Place of birth\n",
    "* Favourite TV show\n",
    "* Favourite film"
   ]
  },
  {
   "cell_type": "code",
   "execution_count": 36,
   "metadata": {},
   "outputs": [
    {
     "data": {
      "text/plain": [
       "{'dob': '1900-01-01',\n",
       " 'pob': 'China',\n",
       " 'Favorite TV show': 'Westworld',\n",
       " 'Favorite film': 'The Lord of the Ring'}"
      ]
     },
     "execution_count": 36,
     "metadata": {},
     "output_type": "execute_result"
    }
   ],
   "source": [
    "my_dict = {'dob':'1900-01-01','pob':'China','Favorite TV show':'Westworld', 'Favorite film':'The Lord of the Ring'}\n",
    "my_dict"
   ]
  },
  {
   "cell_type": "markdown",
   "metadata": {},
   "source": [
    "(2) Add a key and value to your dictionary denoting your favourite band or artist. Use ONLY dictionary methods to do this."
   ]
  },
  {
   "cell_type": "code",
   "execution_count": 37,
   "metadata": {},
   "outputs": [
    {
     "data": {
      "text/plain": [
       "{'dob': '1900-01-01',\n",
       " 'pob': 'China',\n",
       " 'Favorite TV show': 'Westworld',\n",
       " 'Favorite film': 'The Lord of the Ring',\n",
       " 'favorite artist': 'JJ Lin'}"
      ]
     },
     "execution_count": 37,
     "metadata": {},
     "output_type": "execute_result"
    }
   ],
   "source": [
    "my_dict['favorite artist'] = 'JJ Lin'\n",
    "my_dict"
   ]
  },
  {
   "cell_type": "markdown",
   "metadata": {},
   "source": [
    "(3) Delete the \"Place of birth\" field and replace it with one called \"Current residence\" - put the town you currently live in as the value."
   ]
  },
  {
   "cell_type": "code",
   "execution_count": 38,
   "metadata": {},
   "outputs": [
    {
     "data": {
      "text/plain": [
       "{'dob': '1900-01-01',\n",
       " 'Favorite TV show': 'Westworld',\n",
       " 'Favorite film': 'The Lord of the Ring',\n",
       " 'favorite artist': 'JJ Lin',\n",
       " 'Current residence': 'Dallas'}"
      ]
     },
     "execution_count": 38,
     "metadata": {},
     "output_type": "execute_result"
    }
   ],
   "source": [
    "del my_dict['pob']\n",
    "my_dict['Current residence'] = 'Dallas'\n",
    "my_dict"
   ]
  },
  {
   "cell_type": "markdown",
   "metadata": {},
   "source": [
    "(4) Create an empty dictionary in a variable titled the name of your favourite album by your favourite band/artist."
   ]
  },
  {
   "cell_type": "code",
   "execution_count": 39,
   "metadata": {},
   "outputs": [
    {
     "data": {
      "text/plain": [
       "{'dob': '1900-01-01',\n",
       " 'Favorite TV show': 'Westworld',\n",
       " 'Favorite film': 'The Lord of the Ring',\n",
       " 'favorite artist': {'JJ Lin': {}},\n",
       " 'Current residence': 'Dallas'}"
      ]
     },
     "execution_count": 39,
     "metadata": {},
     "output_type": "execute_result"
    }
   ],
   "source": [
    "my_dict['favorite artist'] = {'JJ Lin': {}}\n",
    "my_dict"
   ]
  },
  {
   "cell_type": "markdown",
   "metadata": {},
   "source": [
    "(5) Within this new dictionary, use dictionary methods to populate the dictionary with the following keys (and give them values):\n",
    "* Year of release\n",
    "* Number of tracks"
   ]
  },
  {
   "cell_type": "code",
   "execution_count": 40,
   "metadata": {},
   "outputs": [
    {
     "data": {
      "text/plain": [
       "{'dob': '1900-01-01',\n",
       " 'Favorite TV show': 'Westworld',\n",
       " 'Favorite film': 'The Lord of the Ring',\n",
       " 'favorite artist': {'JJ Lin': {'The JJ Haven': {'Year of release': '2004-06-04',\n",
       "    'Number of tracks': 15},\n",
       "   'No.89757': {'Year of release': '2005-04-01', 'Number of tracks': 12},\n",
       "   'Genesis': {'Year of release': '2014-12-27', 'Number of tracks': 11}}},\n",
       " 'Current residence': 'Dallas'}"
      ]
     },
     "execution_count": 40,
     "metadata": {},
     "output_type": "execute_result"
    }
   ],
   "source": [
    "my_dict['favorite artist']['JJ Lin']['The JJ Haven'] = {'Year of release': '2004-06-04','Number of tracks':15}\n",
    "my_dict['favorite artist']['JJ Lin']['No.89757'] = {'Year of release': '2005-04-01','Number of tracks':12}\n",
    "my_dict['favorite artist']['JJ Lin']['Genesis'] = {'Year of release': '2014-12-27','Number of tracks':11}\n",
    "my_dict"
   ]
  }
 ],
 "metadata": {
  "kernelspec": {
   "display_name": "Python(Tensorflow)",
   "language": "python",
   "name": "tf-gpu"
  },
  "language_info": {
   "codemirror_mode": {
    "name": "ipython",
    "version": 3
   },
   "file_extension": ".py",
   "mimetype": "text/x-python",
   "name": "python",
   "nbconvert_exporter": "python",
   "pygments_lexer": "ipython3",
   "version": "3.7.7"
  }
 },
 "nbformat": 4,
 "nbformat_minor": 4
}
